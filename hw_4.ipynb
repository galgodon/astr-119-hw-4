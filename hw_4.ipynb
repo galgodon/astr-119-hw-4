{
 "cells": [
  {
   "cell_type": "markdown",
   "metadata": {},
   "source": [
    "# Import"
   ]
  },
  {
   "cell_type": "code",
   "execution_count": null,
   "metadata": {},
   "outputs": [],
   "source": [
    "import numpy as np"
   ]
  },
  {
   "cell_type": "markdown",
   "metadata": {},
   "source": [
    "# Define function"
   ]
  },
  {
   "cell_type": "code",
   "execution_count": null,
   "metadata": {},
   "outputs": [],
   "source": [
    "def f(x):\n",
    "    return np.exp(-2*x)*np.cos(10*x)\n",
    "\n",
    "int_range = [0,np.pi]\n",
    "tol = 1.0e-6"
   ]
  },
  {
   "cell_type": "markdown",
   "metadata": {},
   "source": [
    "# Define Answer (to check off of)"
   ]
  },
  {
   "cell_type": "code",
   "execution_count": null,
   "metadata": {},
   "outputs": [],
   "source": [
    "def int_f(x):\n",
    "    return (5/52)*(np.exp(-2*x))*(np.sin(10*x)) - (1/52)*(np.exp(-2*x))*(np.cos(10*x))\n",
    "\n",
    "int_actual = int_f(int_range[1]) - int_f(int_range[0])"
   ]
  },
  {
   "cell_type": "markdown",
   "metadata": {},
   "source": [
    "# Make function to check number of iterattions needed to get within a tolerance"
   ]
  },
  {
   "cell_type": "code",
   "execution_count": null,
   "metadata": {},
   "outputs": [],
   "source": [
    "def check_integration_method(method,f,a,b,N,tolerance):\n",
    "    for i in range(len(N)):\n",
    "        int_test = method(f,a,b,N[i])\n",
    "        if np.abs(int_actual-int_test)<=tolerance:\n",
    "            print('Accuracy reached at N = {}'.format(N[i]))\n",
    "            return N[i]\n",
    "    print('Specified Accuracy not reached with given array of N')"
   ]
  },
  {
   "cell_type": "markdown",
   "metadata": {},
   "source": [
    "# Trapezoid Method"
   ]
  },
  {
   "cell_type": "code",
   "execution_count": null,
   "metadata": {},
   "outputs": [],
   "source": [
    "def trapezoid_core(f,x,h):\n",
    "    # f=function; x=x_i; h=( x_i+1 - x_i )\n",
    "    return 0.5*h*(f(x+h)+f(x))\n",
    "\n",
    "def trapezoid_method(f,a,b,N):\n",
    "    # f=function; a,b=limits of integration; N=#of evaluations\n",
    "    x = np.linspace(a,b,N)    # make x go from a to b with array length N\n",
    "    h = x[1]-x[0]             # bc of linspace, spacing is constant\n",
    "    \n",
    "    F_int = 0.0               # initialize value of intergral\n",
    "    \n",
    "    for i in range(N-1):      # perform integral using trapezoid method\n",
    "        F_int += trapezoid_core(f,x[i],h)\n",
    "    return F_int"
   ]
  },
  {
   "cell_type": "markdown",
   "metadata": {},
   "source": [
    "# Simpson's Method"
   ]
  },
  {
   "cell_type": "code",
   "execution_count": null,
   "metadata": {},
   "outputs": [],
   "source": [
    "def simpson_core(f,x,h):\n",
    "    # f=function; x=x_i; h=( x_i+1 - x_i )\n",
    "    return h*(f(x) + 4*f(x+h) + f(x+2*h))/3\n",
    "\n",
    "def simpson_method(f,a,b,N):\n",
    "    # f=function; a,b=limits of integration; N=#of evaluations\n",
    "    x = np.linspace(a,b,N)    # make x go from a to b with array length N\n",
    "    h = x[1]-x[0]             # bc of linspace, spacing is constant\n",
    "    \n",
    "    F_int = 0.0               # initialize value of intergral\n",
    "    \n",
    "    for i in range(0,N-2,2):  # perform integral using simpson method\n",
    "        F_int += simpson_core(f,x[i],h)\n",
    "    if ((N%2)==0):            # since simpsons method uses the next two terms, this is necesarry\n",
    "        F_int += simpson_core(f,x[-2],0.5*h)\n",
    "    return F_int"
   ]
  },
  {
   "cell_type": "markdown",
   "metadata": {},
   "source": [
    "# Romberg integration"
   ]
  },
  {
   "cell_type": "code",
   "execution_count": null,
   "metadata": {},
   "outputs": [],
   "source": [
    "def romberg_core(f,a,b,i):\n",
    "    h = b-a          # difference of a and b\n",
    "    \n",
    "    dh = h/2**(i)\n",
    "    \n",
    "    K = h/2**(i+1)\n",
    "    \n",
    "    M = 0.0\n",
    "    for j in range(2**i):\n",
    "        M += f(a + 0.5*dh + j*dh)\n",
    "    \n",
    "    return K*M\n",
    "\n",
    "def romberg_integration(f,a,b,tol,quiet=False):\n",
    "    i = 0\n",
    "    imax=1000\n",
    "    \n",
    "    delta = 100.0*np.fabs(tol)\n",
    "    \n",
    "    I = np.zeros(imax,dtype=float)\n",
    "    \n",
    "    I[0] = 0.5*(b-a)*(f(a) + f(b))\n",
    "    \n",
    "    i+=1\n",
    "    \n",
    "    if not quiet:\n",
    "        print('{0:^16}{1:^25}{2:^25}{3:^25}'                                   # header for printed table\n",
    "          .format('Iteration','I[i]','I[i-1]','delta'))\n",
    "    \n",
    "    while(delta>tol):\n",
    "            I[i] = 0.5*I[i-1] + romberg_core(f,a,b,i)\n",
    "            \n",
    "            delta = np.fabs( (I[i] - I[i-1])/I[i] )\n",
    "            \n",
    "            if not quiet:\n",
    "                print('{0:^16}{1:^25}{2:^25}{3:^25}' .format(i,I[i],I[i-1],delta))\n",
    "            \n",
    "            if delta>tol:\n",
    "                i += 1\n",
    "                if i>imax:\n",
    "                    print('Max iterations reached.')\n",
    "                    raise StopIteration('Stopping iterations after ',i)\n",
    "    print('Using Rombergs method, Integral of f(x) from {} to {:.2f} = {}'.format(int_range[0],int_range[1],I[i]))\n",
    "    print('     This answer was found in {} iterations to be within {:.2e} of the actual answer'.format(i,tol))\n",
    "    return I[i]"
   ]
  },
  {
   "cell_type": "markdown",
   "metadata": {},
   "source": [
    "# Running Each method"
   ]
  },
  {
   "cell_type": "code",
   "execution_count": null,
   "metadata": {},
   "outputs": [],
   "source": [
    "# Running Trapezoid Method\n",
    "N_array = np.arange(100,1500)   # array of N values to check. I guessed the correct N value is bewteen 100 and 1500\n",
    "                                # if this guess is wrong, the check_integration_method code will mention that\n",
    "N = check_integration_method(trapezoid_method,f,int_range[0],int_range[1],N_array,tol)\n",
    "\n",
    "int_trapezoid = trapezoid_method(f,int_range[0],int_range[1],N)\n",
    "\n",
    "print('Using Trapezoid Method with {} intervals:'.format(N))\n",
    "print('     Integral of f(x) from {} to {:.2f} = {}'\n",
    "     .format(int_range[0],int_range[1],int_trapezoid))\n",
    "print()\n",
    "print('Analytic answer: {}'.format(int_actual))\n",
    "print('     Difference: {}'.format(np.abs(int_actual-int_trapezoid)))"
   ]
  },
  {
   "cell_type": "markdown",
   "metadata": {},
   "source": [
    "### Number of intervals needed to reach specified accuracy using Trapezoid Method: 1283"
   ]
  },
  {
   "cell_type": "code",
   "execution_count": null,
   "metadata": {},
   "outputs": [],
   "source": [
    "# Running Simpson Method\n",
    "N_array = np.arange(100,1000)\n",
    "N = check_integration_method(simpson_method,f,int_range[0],int_range[1],N_array,tol)\n",
    "\n",
    "int_simpson = simpson_method(f,int_range[0],int_range[1],N)\n",
    "\n",
    "print('Using Simpson Method with {} intervals:'.format(N))\n",
    "print('     Integral of f(x) from {} to {:.2f} = {}'\n",
    "     .format(int_range[0],int_range[1],int_simpson))\n",
    "print()\n",
    "print('Analytic answer: {}'.format(int_actual))\n",
    "print('     Difference: {}'.format(np.abs(int_actual-int_simpson)))"
   ]
  },
  {
   "cell_type": "markdown",
   "metadata": {},
   "source": [
    "### Number of intervals needed to reach specified accuracy using Simpson's Method:  136"
   ]
  },
  {
   "cell_type": "code",
   "execution_count": null,
   "metadata": {},
   "outputs": [],
   "source": [
    "int_romberg = romberg_integration(f,int_range[0],int_range[1],tol)"
   ]
  },
  {
   "cell_type": "markdown",
   "metadata": {},
   "source": [
    "### Number of itterations used in Romberg integration: 26"
   ]
  }
 ],
 "metadata": {
  "kernelspec": {
   "display_name": "Python 3",
   "language": "python",
   "name": "python3"
  },
  "language_info": {
   "codemirror_mode": {
    "name": "ipython",
    "version": 3
   },
   "file_extension": ".py",
   "mimetype": "text/x-python",
   "name": "python",
   "nbconvert_exporter": "python",
   "pygments_lexer": "ipython3",
   "version": "3.6.5"
  }
 },
 "nbformat": 4,
 "nbformat_minor": 2
}
